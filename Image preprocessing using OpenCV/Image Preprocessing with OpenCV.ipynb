{
 "cells": [
  {
   "cell_type": "code",
   "execution_count": 1,
   "id": "cde5badb-1883-4282-8071-c2eee1a798f0",
   "metadata": {},
   "outputs": [],
   "source": [
    "import cv2\n",
    "import numpy as np"
   ]
  },
  {
   "cell_type": "code",
   "execution_count": 1,
   "id": "50e10e4d-75e4-4ca1-9a74-859a7e39f37f",
   "metadata": {},
   "outputs": [],
   "source": [
    "import cv2\n",
    "\n",
    "# Replace the path with the actual path to your image\n",
    "image = cv2.imread(r'C:\\Users\\anush\\Downloads\\ro.jpg')\n",
    "\n",
    "if image is None:\n",
    "    print(\"Error: Image not found at the specified path.\")\n",
    "else:\n",
    "    # Display the image\n",
    "    cv2.imshow('Image', image)\n",
    "    cv2.waitKey(0)\n",
    "    cv2.destroyAllWindows()\n"
   ]
  },
  {
   "cell_type": "code",
   "execution_count": null,
   "id": "fb507ac3-d3be-43e6-a275-40181442c0d5",
   "metadata": {},
   "outputs": [],
   "source": [
    "import cv2\n",
    "import numpy as np\n",
    "\n",
    "# Step 1: Load the image\n",
    "image = cv2.imread(r'C:\\Users\\anush\\Downloads\\ro.jpg')\n",
    "\n",
    "# Step 2: Convert to grayscale\n",
    "gray_image = cv2.cvtColor(image, cv2.COLOR_BGR2GRAY)\n",
    "\n",
    "# Step 3: Resize the image\n",
    "resized_image = cv2.resize(image, (300, 300))\n",
    "\n",
    "# Step 4: Apply Gaussian Blur\n",
    "blurred_image = cv2.GaussianBlur(gray_image, (5, 5), 0)\n",
    "\n",
    "# Step 5: Thresholding\n",
    "_, thresholded_image = cv2.threshold(gray_image, 127, 255, cv2.THRESH_BINARY)\n",
    "\n",
    "# Step 6: Edge Detection using Canny\n",
    "edges = cv2.Canny(gray_image, 100, 200)\n",
    "\n",
    "# Step 7: Morphological Operation (Dilation)\n",
    "kernel = np.ones((5, 5), np.uint8)\n",
    "dilated_image = cv2.dilate(thresholded_image, kernel, iterations=1)\n",
    "\n",
    "# Step 8: Save processed images\n",
    "cv2.imwrite('gray_image.jpg', gray_image)\n",
    "cv2.imwrite('resized_image.jpg', resized_image)\n",
    "cv2.imwrite('blurred_image.jpg', blurred_image)\n",
    "cv2.imwrite('thresholded_image.jpg', thresholded_image)\n",
    "cv2.imwrite('edges.jpg', edges)\n",
    "cv2.imwrite('dilated_image.jpg', dilated_image)\n",
    "\n",
    "# Step 9: Display the processed images (optional)\n",
    "cv2.imshow('Grayscale', gray_image)\n",
    "cv2.imshow('Resized', resized_image)\n",
    "cv2.imshow('Blurred', blurred_image)\n",
    "cv2.imshow('Thresholded', thresholded_image)\n",
    "cv2.imshow('Edges', edges)\n",
    "cv2.imshow('Dilated', dilated_image)\n",
    "\n",
    "cv2.waitKey(0)\n",
    "cv2.destroyAllWindows()\n"
   ]
  },
  {
   "cell_type": "code",
   "execution_count": null,
   "id": "805e0bea-a4cc-4d52-88bf-466fc6f3a055",
   "metadata": {},
   "outputs": [],
   "source": []
  }
 ],
 "metadata": {
  "kernelspec": {
   "display_name": "Python 3 (ipykernel)",
   "language": "python",
   "name": "python3"
  },
  "language_info": {
   "codemirror_mode": {
    "name": "ipython",
    "version": 3
   },
   "file_extension": ".py",
   "mimetype": "text/x-python",
   "name": "python",
   "nbconvert_exporter": "python",
   "pygments_lexer": "ipython3",
   "version": "3.12.4"
  }
 },
 "nbformat": 4,
 "nbformat_minor": 5
}
